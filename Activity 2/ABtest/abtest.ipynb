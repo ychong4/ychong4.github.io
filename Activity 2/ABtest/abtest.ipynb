{
 "cells": [
  {
   "cell_type": "markdown",
   "id": "3c20ed66",
   "metadata": {},
   "source": [
    "# A/B Testing"
   ]
  },
  {
   "cell_type": "markdown",
   "id": "e5e8a513",
   "metadata": {},
   "source": [
    "## Overview"
   ]
  },
  {
   "cell_type": "markdown",
   "id": "858d1c9f",
   "metadata": {},
   "source": [
    "- A/B testing compares the performance of two versions of content to see which one appeals more to visitors/viewers.\n",
    "- It takes a control (A) version against a variant (B) version to measure which one is most successful based on your key metrics.\n",
    "- A/B testing plays an important role in campaign management since it helps determine what is and isn't working. It allows you to compare and contrast the performance of two different approaches to identify the better one."
   ]
  },
  {
   "cell_type": "markdown",
   "id": "d3ba2914",
   "metadata": {},
   "source": [
    "**AB Testing Steps:**\n",
    "- Understanding business problem & data\n",
    "- Detect and resolve problems in the data (Missing Value, Outliers, Unexpected Value)\n",
    "- Look summary stats and plots\n",
    "- Apply hypothesis testing and check assumptions\n",
    "    - Check Normality & Homogeneity\n",
    "    - Apply tests (Shapiro, Levene Test, T-Test, Welch Test, Mann Whitney U Test)\n",
    "- Evaluate the results\n",
    "- Make inferences\n",
    "- Recommend business decision to your customer/director/ceo etc."
   ]
  },
  {
   "cell_type": "markdown",
   "id": "b57daed3",
   "metadata": {},
   "source": [
    "In this dataset, we will perform test on three perspectives:\n",
    "\n",
    "(1) **All users:** The whole dataset\n",
    "\n",
    "(2) **Paid users:** Filter the dataset with only paid user\n",
    "\n",
    "(3) **Multiple visit users:** Filter the dataset with users that have multiple visits"
   ]
  },
  {
   "cell_type": "code",
   "execution_count": 1,
   "id": "f90b2d32",
   "metadata": {},
   "outputs": [
    {
     "name": "stderr",
     "output_type": "stream",
     "text": [
      "C:\\Users\\ychong4\\Anaconda3\\lib\\site-packages\\pandas\\core\\arrays\\masked.py:60: UserWarning: Pandas requires version '1.3.6' or newer of 'bottleneck' (version '1.3.5' currently installed).\n",
      "  from pandas.core import (\n"
     ]
    }
   ],
   "source": [
    "import pandas as pd\n",
    "import numpy as np\n",
    "import matplotlib.pyplot as plt\n",
    "import seaborn as sns\n",
    "from scipy import stats"
   ]
  },
  {
   "cell_type": "code",
   "execution_count": 2,
   "id": "d1d1fb00",
   "metadata": {},
   "outputs": [
    {
     "data": {
      "text/html": [
       "<div>\n",
       "<style scoped>\n",
       "    .dataframe tbody tr th:only-of-type {\n",
       "        vertical-align: middle;\n",
       "    }\n",
       "\n",
       "    .dataframe tbody tr th {\n",
       "        vertical-align: top;\n",
       "    }\n",
       "\n",
       "    .dataframe thead th {\n",
       "        text-align: right;\n",
       "    }\n",
       "</style>\n",
       "<table border=\"1\" class=\"dataframe\">\n",
       "  <thead>\n",
       "    <tr style=\"text-align: right;\">\n",
       "      <th></th>\n",
       "      <th>USER_ID</th>\n",
       "      <th>VARIANT_NAME</th>\n",
       "      <th>REVENUE</th>\n",
       "    </tr>\n",
       "  </thead>\n",
       "  <tbody>\n",
       "    <tr>\n",
       "      <th>0</th>\n",
       "      <td>737</td>\n",
       "      <td>variant</td>\n",
       "      <td>0.0</td>\n",
       "    </tr>\n",
       "    <tr>\n",
       "      <th>1</th>\n",
       "      <td>2423</td>\n",
       "      <td>control</td>\n",
       "      <td>0.0</td>\n",
       "    </tr>\n",
       "    <tr>\n",
       "      <th>2</th>\n",
       "      <td>9411</td>\n",
       "      <td>control</td>\n",
       "      <td>0.0</td>\n",
       "    </tr>\n",
       "    <tr>\n",
       "      <th>3</th>\n",
       "      <td>7311</td>\n",
       "      <td>control</td>\n",
       "      <td>0.0</td>\n",
       "    </tr>\n",
       "    <tr>\n",
       "      <th>4</th>\n",
       "      <td>6174</td>\n",
       "      <td>variant</td>\n",
       "      <td>0.0</td>\n",
       "    </tr>\n",
       "    <tr>\n",
       "      <th>...</th>\n",
       "      <td>...</td>\n",
       "      <td>...</td>\n",
       "      <td>...</td>\n",
       "    </tr>\n",
       "    <tr>\n",
       "      <th>9995</th>\n",
       "      <td>1981</td>\n",
       "      <td>control</td>\n",
       "      <td>0.0</td>\n",
       "    </tr>\n",
       "    <tr>\n",
       "      <th>9996</th>\n",
       "      <td>502</td>\n",
       "      <td>variant</td>\n",
       "      <td>0.0</td>\n",
       "    </tr>\n",
       "    <tr>\n",
       "      <th>9997</th>\n",
       "      <td>9214</td>\n",
       "      <td>variant</td>\n",
       "      <td>0.0</td>\n",
       "    </tr>\n",
       "    <tr>\n",
       "      <th>9998</th>\n",
       "      <td>7741</td>\n",
       "      <td>control</td>\n",
       "      <td>0.0</td>\n",
       "    </tr>\n",
       "    <tr>\n",
       "      <th>9999</th>\n",
       "      <td>9468</td>\n",
       "      <td>control</td>\n",
       "      <td>0.0</td>\n",
       "    </tr>\n",
       "  </tbody>\n",
       "</table>\n",
       "<p>10000 rows × 3 columns</p>\n",
       "</div>"
      ],
      "text/plain": [
       "      USER_ID VARIANT_NAME  REVENUE\n",
       "0         737      variant      0.0\n",
       "1        2423      control      0.0\n",
       "2        9411      control      0.0\n",
       "3        7311      control      0.0\n",
       "4        6174      variant      0.0\n",
       "...       ...          ...      ...\n",
       "9995     1981      control      0.0\n",
       "9996      502      variant      0.0\n",
       "9997     9214      variant      0.0\n",
       "9998     7741      control      0.0\n",
       "9999     9468      control      0.0\n",
       "\n",
       "[10000 rows x 3 columns]"
      ]
     },
     "execution_count": 2,
     "metadata": {},
     "output_type": "execute_result"
    }
   ],
   "source": [
    "df = pd.read_csv(\"AB_Test_Results.csv\")\n",
    "df"
   ]
  },
  {
   "cell_type": "markdown",
   "id": "195ff0c0",
   "metadata": {},
   "source": [
    "## Section 1. Analyze the entire dataset"
   ]
  },
  {
   "cell_type": "code",
   "execution_count": 3,
   "id": "b4a77d8b",
   "metadata": {},
   "outputs": [
    {
     "name": "stdout",
     "output_type": "stream",
     "text": [
      "<class 'pandas.core.frame.DataFrame'>\n",
      "RangeIndex: 10000 entries, 0 to 9999\n",
      "Data columns (total 3 columns):\n",
      " #   Column        Non-Null Count  Dtype  \n",
      "---  ------        --------------  -----  \n",
      " 0   USER_ID       10000 non-null  int64  \n",
      " 1   VARIANT_NAME  10000 non-null  object \n",
      " 2   REVENUE       10000 non-null  float64\n",
      "dtypes: float64(1), int64(1), object(1)\n",
      "memory usage: 234.5+ KB\n"
     ]
    }
   ],
   "source": [
    "df.info()"
   ]
  },
  {
   "cell_type": "code",
   "execution_count": 4,
   "id": "016e8877",
   "metadata": {},
   "outputs": [
    {
     "data": {
      "text/html": [
       "<div>\n",
       "<style scoped>\n",
       "    .dataframe tbody tr th:only-of-type {\n",
       "        vertical-align: middle;\n",
       "    }\n",
       "\n",
       "    .dataframe tbody tr th {\n",
       "        vertical-align: top;\n",
       "    }\n",
       "\n",
       "    .dataframe thead th {\n",
       "        text-align: right;\n",
       "    }\n",
       "</style>\n",
       "<table border=\"1\" class=\"dataframe\">\n",
       "  <thead>\n",
       "    <tr style=\"text-align: right;\">\n",
       "      <th></th>\n",
       "      <th>USER_ID</th>\n",
       "      <th>REVENUE</th>\n",
       "    </tr>\n",
       "  </thead>\n",
       "  <tbody>\n",
       "    <tr>\n",
       "      <th>count</th>\n",
       "      <td>10000.000000</td>\n",
       "      <td>10000.000000</td>\n",
       "    </tr>\n",
       "    <tr>\n",
       "      <th>mean</th>\n",
       "      <td>4981.080200</td>\n",
       "      <td>0.099447</td>\n",
       "    </tr>\n",
       "    <tr>\n",
       "      <th>std</th>\n",
       "      <td>2890.590115</td>\n",
       "      <td>2.318529</td>\n",
       "    </tr>\n",
       "    <tr>\n",
       "      <th>min</th>\n",
       "      <td>2.000000</td>\n",
       "      <td>0.000000</td>\n",
       "    </tr>\n",
       "    <tr>\n",
       "      <th>25%</th>\n",
       "      <td>2468.750000</td>\n",
       "      <td>0.000000</td>\n",
       "    </tr>\n",
       "    <tr>\n",
       "      <th>50%</th>\n",
       "      <td>4962.000000</td>\n",
       "      <td>0.000000</td>\n",
       "    </tr>\n",
       "    <tr>\n",
       "      <th>75%</th>\n",
       "      <td>7511.500000</td>\n",
       "      <td>0.000000</td>\n",
       "    </tr>\n",
       "    <tr>\n",
       "      <th>max</th>\n",
       "      <td>10000.000000</td>\n",
       "      <td>196.010000</td>\n",
       "    </tr>\n",
       "  </tbody>\n",
       "</table>\n",
       "</div>"
      ],
      "text/plain": [
       "            USER_ID       REVENUE\n",
       "count  10000.000000  10000.000000\n",
       "mean    4981.080200      0.099447\n",
       "std     2890.590115      2.318529\n",
       "min        2.000000      0.000000\n",
       "25%     2468.750000      0.000000\n",
       "50%     4962.000000      0.000000\n",
       "75%     7511.500000      0.000000\n",
       "max    10000.000000    196.010000"
      ]
     },
     "execution_count": 4,
     "metadata": {},
     "output_type": "execute_result"
    }
   ],
   "source": [
    "df.describe()"
   ]
  },
  {
   "cell_type": "code",
   "execution_count": 5,
   "id": "2d018870",
   "metadata": {},
   "outputs": [
    {
     "data": {
      "text/plain": [
       "<Axes: xlabel='VARIANT_NAME', ylabel='REVENUE'>"
      ]
     },
     "execution_count": 5,
     "metadata": {},
     "output_type": "execute_result"
    },
    {
     "data": {
      "image/png": "[encoded data removed]",
      "text/plain": [
       "<Figure size 640x480 with 1 Axes>"
      ]
     },
     "metadata": {},
     "output_type": "display_data"
    }
   ],
   "source": [
    "# Plot the revenue based on variant name\n",
    "\n",
    "sns.boxplot(y='REVENUE', x='VARIANT_NAME', data=df)"
   ]
  },
  {
   "cell_type": "code",
   "execution_count": 6,
   "id": "6c4d6193",
   "metadata": {},
   "outputs": [
    {
     "data": {
      "text/html": [
       "<div>\n",
       "<style scoped>\n",
       "    .dataframe tbody tr th:only-of-type {\n",
       "        vertical-align: middle;\n",
       "    }\n",
       "\n",
       "    .dataframe tbody tr th {\n",
       "        vertical-align: top;\n",
       "    }\n",
       "\n",
       "    .dataframe thead tr th {\n",
       "        text-align: left;\n",
       "    }\n",
       "\n",
       "    .dataframe thead tr:last-of-type th {\n",
       "        text-align: right;\n",
       "    }\n",
       "</style>\n",
       "<table border=\"1\" class=\"dataframe\">\n",
       "  <thead>\n",
       "    <tr>\n",
       "      <th></th>\n",
       "      <th>USER_ID</th>\n",
       "      <th colspan=\"4\" halign=\"left\">REVENUE</th>\n",
       "    </tr>\n",
       "    <tr>\n",
       "      <th></th>\n",
       "      <th>nunique</th>\n",
       "      <th>sum</th>\n",
       "      <th>mean</th>\n",
       "      <th>median</th>\n",
       "      <th>count</th>\n",
       "    </tr>\n",
       "    <tr>\n",
       "      <th>VARIANT_NAME</th>\n",
       "      <th></th>\n",
       "      <th></th>\n",
       "      <th></th>\n",
       "      <th></th>\n",
       "      <th></th>\n",
       "    </tr>\n",
       "  </thead>\n",
       "  <tbody>\n",
       "    <tr>\n",
       "      <th>control</th>\n",
       "      <td>3931</td>\n",
       "      <td>643.00</td>\n",
       "      <td>0.129013</td>\n",
       "      <td>0.0</td>\n",
       "      <td>4984</td>\n",
       "    </tr>\n",
       "    <tr>\n",
       "      <th>variant</th>\n",
       "      <td>3934</td>\n",
       "      <td>351.47</td>\n",
       "      <td>0.070070</td>\n",
       "      <td>0.0</td>\n",
       "      <td>5016</td>\n",
       "    </tr>\n",
       "  </tbody>\n",
       "</table>\n",
       "</div>"
      ],
      "text/plain": [
       "             USER_ID REVENUE                       \n",
       "             nunique     sum      mean median count\n",
       "VARIANT_NAME                                       \n",
       "control         3931  643.00  0.129013    0.0  4984\n",
       "variant         3934  351.47  0.070070    0.0  5016"
      ]
     },
     "execution_count": 6,
     "metadata": {},
     "output_type": "execute_result"
    }
   ],
   "source": [
    "df.groupby(by=\"VARIANT_NAME\").agg({\"USER_ID\": \"nunique\", \"REVENUE\": [\"sum\", \"mean\", \"median\", \"count\"]})"
   ]
  },
  {
   "cell_type": "code",
   "execution_count": 7,
   "id": "11ba370c",
   "metadata": {},
   "outputs": [
    {
     "data": {
      "text/html": [
       "<div>\n",
       "<style scoped>\n",
       "    .dataframe tbody tr th:only-of-type {\n",
       "        vertical-align: middle;\n",
       "    }\n",
       "\n",
       "    .dataframe tbody tr th {\n",
       "        vertical-align: top;\n",
       "    }\n",
       "\n",
       "    .dataframe thead th {\n",
       "        text-align: right;\n",
       "    }\n",
       "</style>\n",
       "<table border=\"1\" class=\"dataframe\">\n",
       "  <thead>\n",
       "    <tr style=\"text-align: right;\">\n",
       "      <th></th>\n",
       "      <th>USER_ID</th>\n",
       "      <th>VARIANT_NAME</th>\n",
       "      <th>REVENUE</th>\n",
       "    </tr>\n",
       "  </thead>\n",
       "  <tbody>\n",
       "    <tr>\n",
       "      <th>0</th>\n",
       "      <td>737</td>\n",
       "      <td>variant</td>\n",
       "      <td>0.0</td>\n",
       "    </tr>\n",
       "    <tr>\n",
       "      <th>1</th>\n",
       "      <td>2423</td>\n",
       "      <td>control</td>\n",
       "      <td>0.0</td>\n",
       "    </tr>\n",
       "    <tr>\n",
       "      <th>2</th>\n",
       "      <td>9411</td>\n",
       "      <td>control</td>\n",
       "      <td>0.0</td>\n",
       "    </tr>\n",
       "    <tr>\n",
       "      <th>3</th>\n",
       "      <td>7311</td>\n",
       "      <td>control</td>\n",
       "      <td>0.0</td>\n",
       "    </tr>\n",
       "    <tr>\n",
       "      <th>4</th>\n",
       "      <td>6174</td>\n",
       "      <td>variant</td>\n",
       "      <td>0.0</td>\n",
       "    </tr>\n",
       "    <tr>\n",
       "      <th>...</th>\n",
       "      <td>...</td>\n",
       "      <td>...</td>\n",
       "      <td>...</td>\n",
       "    </tr>\n",
       "    <tr>\n",
       "      <th>9994</th>\n",
       "      <td>1981</td>\n",
       "      <td>control</td>\n",
       "      <td>0.0</td>\n",
       "    </tr>\n",
       "    <tr>\n",
       "      <th>9995</th>\n",
       "      <td>502</td>\n",
       "      <td>variant</td>\n",
       "      <td>0.0</td>\n",
       "    </tr>\n",
       "    <tr>\n",
       "      <th>9996</th>\n",
       "      <td>9214</td>\n",
       "      <td>variant</td>\n",
       "      <td>0.0</td>\n",
       "    </tr>\n",
       "    <tr>\n",
       "      <th>9997</th>\n",
       "      <td>7741</td>\n",
       "      <td>control</td>\n",
       "      <td>0.0</td>\n",
       "    </tr>\n",
       "    <tr>\n",
       "      <th>9998</th>\n",
       "      <td>9468</td>\n",
       "      <td>control</td>\n",
       "      <td>0.0</td>\n",
       "    </tr>\n",
       "  </tbody>\n",
       "</table>\n",
       "<p>9999 rows × 3 columns</p>\n",
       "</div>"
      ],
      "text/plain": [
       "      USER_ID VARIANT_NAME  REVENUE\n",
       "0         737      variant      0.0\n",
       "1        2423      control      0.0\n",
       "2        9411      control      0.0\n",
       "3        7311      control      0.0\n",
       "4        6174      variant      0.0\n",
       "...       ...          ...      ...\n",
       "9994     1981      control      0.0\n",
       "9995      502      variant      0.0\n",
       "9996     9214      variant      0.0\n",
       "9997     7741      control      0.0\n",
       "9998     9468      control      0.0\n",
       "\n",
       "[9999 rows x 3 columns]"
      ]
     },
     "execution_count": 7,
     "metadata": {},
     "output_type": "execute_result"
    }
   ],
   "source": [
    "# Remove the outlier\n",
    "outlier_idx = df[df.VARIANT_NAME =='control']['REVENUE'].idxmax()\n",
    "\n",
    "df = df.drop(outlier_idx).reset_index(drop=True)\n",
    "df"
   ]
  },
  {
   "cell_type": "markdown",
   "id": "9f054855",
   "metadata": {},
   "source": [
    "### After removing the outlier"
   ]
  },
  {
   "cell_type": "code",
   "execution_count": 8,
   "id": "ecf77d33",
   "metadata": {},
   "outputs": [
    {
     "data": {
      "text/plain": [
       "<Axes: xlabel='VARIANT_NAME', ylabel='REVENUE'>"
      ]
     },
     "execution_count": 8,
     "metadata": {},
     "output_type": "execute_result"
    },
    {
     "data": {
      "image/png": "[encoded data removed]",
      "text/plain": [
       "<Figure size 640x480 with 1 Axes>"
      ]
     },
     "metadata": {},
     "output_type": "display_data"
    }
   ],
   "source": [
    "# Plot the revenue based on variant name\n",
    "\n",
    "sns.boxplot(y='REVENUE', x='VARIANT_NAME', data=df)"
   ]
  },
  {
   "cell_type": "markdown",
   "id": "4f5446a7",
   "metadata": {},
   "source": [
    "### A/B Test on the entire dataset"
   ]
  },
  {
   "cell_type": "markdown",
   "id": "e80dbe38",
   "metadata": {},
   "source": [
    "- 𝐻0: There is no difference in the mean revenue between variant and control.\n",
    "- 𝐻𝐴: There is a difference in the mean revenue between variant and control."
   ]
  },
  {
   "cell_type": "code",
   "execution_count": 9,
   "id": "eb9ef42d",
   "metadata": {},
   "outputs": [
    {
     "name": "stdout",
     "output_type": "stream",
     "text": [
      "True\n",
      "True\n"
     ]
    },
    {
     "name": "stderr",
     "output_type": "stream",
     "text": [
      "C:\\Users\\ychong4\\Anaconda3\\lib\\site-packages\\scipy\\stats\\_morestats.py:1816: UserWarning: p-value may not be accurate for N > 5000.\n",
      "  warnings.warn(\"p-value may not be accurate for N > 5000.\")\n"
     ]
    }
   ],
   "source": [
    "# Split AB\n",
    "group_A = df[df.VARIANT_NAME == 'variant']['REVENUE']\n",
    "group_B = df[df.VARIANT_NAME == 'control']['REVENUE']\n",
    "\n",
    "# Assumption: Normality\n",
    "ntA = stats.shapiro(group_A)[1] < 0.05\n",
    "ntB = stats.shapiro(group_B)[1] < 0.05\n",
    "# H0: Distribution is Normal! - False\n",
    "# H1: Distribution is not Normal! - True\n",
    "print(ntA)\n",
    "print(ntB)"
   ]
  },
  {
   "cell_type": "markdown",
   "id": "754b1a12",
   "metadata": {},
   "source": [
    "So, both of the groups are not normally distributed. Therefore, we will perform a non-parametric test using Mann-Whitney U test method"
   ]
  },
  {
   "cell_type": "code",
   "execution_count": 10,
   "id": "c11fff06",
   "metadata": {},
   "outputs": [
    {
     "data": {
      "text/plain": [
       "0.5291970335120277"
      ]
     },
     "execution_count": 10,
     "metadata": {},
     "output_type": "execute_result"
    }
   ],
   "source": [
    "t_test, p_value = stats.mannwhitneyu(group_A, group_B)\n",
    "p_value"
   ]
  },
  {
   "cell_type": "markdown",
   "id": "8b77f81f",
   "metadata": {},
   "source": [
    "p-value > 0.05, fail to reject H0."
   ]
  },
  {
   "cell_type": "code",
   "execution_count": 11,
   "id": "024772b2",
   "metadata": {},
   "outputs": [],
   "source": [
    "data = [\n",
    "    {'Scenario': 'Test on the entire user group', 'Test Type': 'Non-parametric', 'P_value': p_value, 'Result': \n",
    "     \"Failed to reject H0\", \"Remark\": 'A/B groups are similar'}\n",
    "]\n",
    "\n",
    "result = pd.DataFrame(data)"
   ]
  },
  {
   "cell_type": "markdown",
   "id": "0973c9b3",
   "metadata": {},
   "source": [
    "## 2. Analyze the paid user group"
   ]
  },
  {
   "cell_type": "code",
   "execution_count": 12,
   "id": "e67ae45e",
   "metadata": {},
   "outputs": [
    {
     "data": {
      "text/html": [
       "<div>\n",
       "<style scoped>\n",
       "    .dataframe tbody tr th:only-of-type {\n",
       "        vertical-align: middle;\n",
       "    }\n",
       "\n",
       "    .dataframe tbody tr th {\n",
       "        vertical-align: top;\n",
       "    }\n",
       "\n",
       "    .dataframe thead th {\n",
       "        text-align: right;\n",
       "    }\n",
       "</style>\n",
       "<table border=\"1\" class=\"dataframe\">\n",
       "  <thead>\n",
       "    <tr style=\"text-align: right;\">\n",
       "      <th></th>\n",
       "      <th>USER_ID</th>\n",
       "      <th>VARIANT_NAME</th>\n",
       "      <th>REVENUE</th>\n",
       "    </tr>\n",
       "  </thead>\n",
       "  <tbody>\n",
       "    <tr>\n",
       "      <th>13</th>\n",
       "      <td>2529</td>\n",
       "      <td>variant</td>\n",
       "      <td>2.15</td>\n",
       "    </tr>\n",
       "    <tr>\n",
       "      <th>49</th>\n",
       "      <td>6429</td>\n",
       "      <td>control</td>\n",
       "      <td>3.25</td>\n",
       "    </tr>\n",
       "    <tr>\n",
       "      <th>139</th>\n",
       "      <td>3331</td>\n",
       "      <td>variant</td>\n",
       "      <td>4.27</td>\n",
       "    </tr>\n",
       "    <tr>\n",
       "      <th>149</th>\n",
       "      <td>8110</td>\n",
       "      <td>variant</td>\n",
       "      <td>1.75</td>\n",
       "    </tr>\n",
       "    <tr>\n",
       "      <th>152</th>\n",
       "      <td>8607</td>\n",
       "      <td>control</td>\n",
       "      <td>2.99</td>\n",
       "    </tr>\n",
       "    <tr>\n",
       "      <th>...</th>\n",
       "      <td>...</td>\n",
       "      <td>...</td>\n",
       "      <td>...</td>\n",
       "    </tr>\n",
       "    <tr>\n",
       "      <th>9650</th>\n",
       "      <td>9928</td>\n",
       "      <td>variant</td>\n",
       "      <td>1.25</td>\n",
       "    </tr>\n",
       "    <tr>\n",
       "      <th>9710</th>\n",
       "      <td>6468</td>\n",
       "      <td>control</td>\n",
       "      <td>2.93</td>\n",
       "    </tr>\n",
       "    <tr>\n",
       "      <th>9723</th>\n",
       "      <td>5205</td>\n",
       "      <td>control</td>\n",
       "      <td>14.17</td>\n",
       "    </tr>\n",
       "    <tr>\n",
       "      <th>9724</th>\n",
       "      <td>702</td>\n",
       "      <td>variant</td>\n",
       "      <td>2.92</td>\n",
       "    </tr>\n",
       "    <tr>\n",
       "      <th>9976</th>\n",
       "      <td>4678</td>\n",
       "      <td>variant</td>\n",
       "      <td>1.01</td>\n",
       "    </tr>\n",
       "  </tbody>\n",
       "</table>\n",
       "<p>151 rows × 3 columns</p>\n",
       "</div>"
      ],
      "text/plain": [
       "      USER_ID VARIANT_NAME  REVENUE\n",
       "13       2529      variant     2.15\n",
       "49       6429      control     3.25\n",
       "139      3331      variant     4.27\n",
       "149      8110      variant     1.75\n",
       "152      8607      control     2.99\n",
       "...       ...          ...      ...\n",
       "9650     9928      variant     1.25\n",
       "9710     6468      control     2.93\n",
       "9723     5205      control    14.17\n",
       "9724      702      variant     2.92\n",
       "9976     4678      variant     1.01\n",
       "\n",
       "[151 rows x 3 columns]"
      ]
     },
     "execution_count": 12,
     "metadata": {},
     "output_type": "execute_result"
    }
   ],
   "source": [
    "paid = df[df.REVENUE > 0]\n",
    "paid"
   ]
  },
  {
   "cell_type": "code",
   "execution_count": 13,
   "id": "83a9c9cf",
   "metadata": {},
   "outputs": [
    {
     "name": "stdout",
     "output_type": "stream",
     "text": [
      "<class 'pandas.core.frame.DataFrame'>\n",
      "Index: 151 entries, 13 to 9976\n",
      "Data columns (total 3 columns):\n",
      " #   Column        Non-Null Count  Dtype  \n",
      "---  ------        --------------  -----  \n",
      " 0   USER_ID       151 non-null    int64  \n",
      " 1   VARIANT_NAME  151 non-null    object \n",
      " 2   REVENUE       151 non-null    float64\n",
      "dtypes: float64(1), int64(1), object(1)\n",
      "memory usage: 4.7+ KB\n"
     ]
    }
   ],
   "source": [
    "paid.info()"
   ]
  },
  {
   "cell_type": "code",
   "execution_count": 14,
   "id": "80a0815e",
   "metadata": {},
   "outputs": [
    {
     "data": {
      "text/html": [
       "<div>\n",
       "<style scoped>\n",
       "    .dataframe tbody tr th:only-of-type {\n",
       "        vertical-align: middle;\n",
       "    }\n",
       "\n",
       "    .dataframe tbody tr th {\n",
       "        vertical-align: top;\n",
       "    }\n",
       "\n",
       "    .dataframe thead th {\n",
       "        text-align: right;\n",
       "    }\n",
       "</style>\n",
       "<table border=\"1\" class=\"dataframe\">\n",
       "  <thead>\n",
       "    <tr style=\"text-align: right;\">\n",
       "      <th></th>\n",
       "      <th>USER_ID</th>\n",
       "      <th>REVENUE</th>\n",
       "    </tr>\n",
       "  </thead>\n",
       "  <tbody>\n",
       "    <tr>\n",
       "      <th>count</th>\n",
       "      <td>151.000000</td>\n",
       "      <td>151.000000</td>\n",
       "    </tr>\n",
       "    <tr>\n",
       "      <th>mean</th>\n",
       "      <td>4872.284768</td>\n",
       "      <td>5.287815</td>\n",
       "    </tr>\n",
       "    <tr>\n",
       "      <th>std</th>\n",
       "      <td>2994.920643</td>\n",
       "      <td>8.643782</td>\n",
       "    </tr>\n",
       "    <tr>\n",
       "      <th>min</th>\n",
       "      <td>56.000000</td>\n",
       "      <td>0.020000</td>\n",
       "    </tr>\n",
       "    <tr>\n",
       "      <th>25%</th>\n",
       "      <td>2173.500000</td>\n",
       "      <td>1.250000</td>\n",
       "    </tr>\n",
       "    <tr>\n",
       "      <th>50%</th>\n",
       "      <td>4995.000000</td>\n",
       "      <td>2.340000</td>\n",
       "    </tr>\n",
       "    <tr>\n",
       "      <th>75%</th>\n",
       "      <td>7428.500000</td>\n",
       "      <td>4.520000</td>\n",
       "    </tr>\n",
       "    <tr>\n",
       "      <th>max</th>\n",
       "      <td>9996.000000</td>\n",
       "      <td>58.630000</td>\n",
       "    </tr>\n",
       "  </tbody>\n",
       "</table>\n",
       "</div>"
      ],
      "text/plain": [
       "           USER_ID     REVENUE\n",
       "count   151.000000  151.000000\n",
       "mean   4872.284768    5.287815\n",
       "std    2994.920643    8.643782\n",
       "min      56.000000    0.020000\n",
       "25%    2173.500000    1.250000\n",
       "50%    4995.000000    2.340000\n",
       "75%    7428.500000    4.520000\n",
       "max    9996.000000   58.630000"
      ]
     },
     "execution_count": 14,
     "metadata": {},
     "output_type": "execute_result"
    }
   ],
   "source": [
    "paid.describe()"
   ]
  },
  {
   "cell_type": "code",
   "execution_count": 15,
   "id": "d27f4930",
   "metadata": {},
   "outputs": [
    {
     "data": {
      "text/plain": [
       "<Axes: xlabel='VARIANT_NAME', ylabel='REVENUE'>"
      ]
     },
     "execution_count": 15,
     "metadata": {},
     "output_type": "execute_result"
    },
    {
     "data": {
      "image/png": "[encoded data removed]",
      "text/plain": [
       "<Figure size 640x480 with 1 Axes>"
      ]
     },
     "metadata": {},
     "output_type": "display_data"
    }
   ],
   "source": [
    "# Plot the revenue based on variant name\n",
    "\n",
    "sns.boxplot(y='REVENUE', x='VARIANT_NAME', data=paid)"
   ]
  },
  {
   "cell_type": "code",
   "execution_count": 16,
   "id": "5cff35f2",
   "metadata": {},
   "outputs": [
    {
     "data": {
      "text/html": [
       "<div>\n",
       "<style scoped>\n",
       "    .dataframe tbody tr th:only-of-type {\n",
       "        vertical-align: middle;\n",
       "    }\n",
       "\n",
       "    .dataframe tbody tr th {\n",
       "        vertical-align: top;\n",
       "    }\n",
       "\n",
       "    .dataframe thead tr th {\n",
       "        text-align: left;\n",
       "    }\n",
       "\n",
       "    .dataframe thead tr:last-of-type th {\n",
       "        text-align: right;\n",
       "    }\n",
       "</style>\n",
       "<table border=\"1\" class=\"dataframe\">\n",
       "  <thead>\n",
       "    <tr>\n",
       "      <th></th>\n",
       "      <th>USER_ID</th>\n",
       "      <th colspan=\"4\" halign=\"left\">REVENUE</th>\n",
       "    </tr>\n",
       "    <tr>\n",
       "      <th></th>\n",
       "      <th>nunique</th>\n",
       "      <th>sum</th>\n",
       "      <th>mean</th>\n",
       "      <th>median</th>\n",
       "      <th>count</th>\n",
       "    </tr>\n",
       "    <tr>\n",
       "      <th>VARIANT_NAME</th>\n",
       "      <th></th>\n",
       "      <th></th>\n",
       "      <th></th>\n",
       "      <th></th>\n",
       "      <th></th>\n",
       "    </tr>\n",
       "  </thead>\n",
       "  <tbody>\n",
       "    <tr>\n",
       "      <th>control</th>\n",
       "      <td>79</td>\n",
       "      <td>446.99</td>\n",
       "      <td>5.658101</td>\n",
       "      <td>2.93</td>\n",
       "      <td>79</td>\n",
       "    </tr>\n",
       "    <tr>\n",
       "      <th>variant</th>\n",
       "      <td>71</td>\n",
       "      <td>351.47</td>\n",
       "      <td>4.881528</td>\n",
       "      <td>2.17</td>\n",
       "      <td>72</td>\n",
       "    </tr>\n",
       "  </tbody>\n",
       "</table>\n",
       "</div>"
      ],
      "text/plain": [
       "             USER_ID REVENUE                       \n",
       "             nunique     sum      mean median count\n",
       "VARIANT_NAME                                       \n",
       "control           79  446.99  5.658101   2.93    79\n",
       "variant           71  351.47  4.881528   2.17    72"
      ]
     },
     "execution_count": 16,
     "metadata": {},
     "output_type": "execute_result"
    }
   ],
   "source": [
    "paid.groupby(by=\"VARIANT_NAME\").agg({\"USER_ID\": \"nunique\", \"REVENUE\": [\"sum\", \"mean\", \"median\", \"count\"]})"
   ]
  },
  {
   "cell_type": "markdown",
   "id": "18a38695",
   "metadata": {},
   "source": [
    "### A/B Test on the paid user group"
   ]
  },
  {
   "cell_type": "markdown",
   "id": "72a9668e",
   "metadata": {},
   "source": [
    "- 𝐻0: There is no difference in the mean revenue between variant and control.\n",
    "- 𝐻𝐴: There is a difference in the mean revenue between variant and control."
   ]
  },
  {
   "cell_type": "code",
   "execution_count": 17,
   "id": "66b5e9e5",
   "metadata": {},
   "outputs": [
    {
     "name": "stdout",
     "output_type": "stream",
     "text": [
      "True\n",
      "True\n"
     ]
    }
   ],
   "source": [
    "# Split AB\n",
    "group_A = paid[paid.VARIANT_NAME == 'variant']['REVENUE']\n",
    "group_B = paid[paid.VARIANT_NAME == 'control']['REVENUE']\n",
    "\n",
    "# Assumption: Normality\n",
    "ntA = stats.shapiro(group_A)[1] < 0.05\n",
    "ntB = stats.shapiro(group_B)[1] < 0.05\n",
    "# H0: Distribution is Normal! - False\n",
    "# H1: Distribution is not Normal! - True\n",
    "print(ntA)\n",
    "print(ntB)"
   ]
  },
  {
   "cell_type": "markdown",
   "id": "20952e48",
   "metadata": {},
   "source": [
    "So, both of the groups are not normally distributed. Therefore, we will perform a non-parametric test using Mann-Whitney U test method"
   ]
  },
  {
   "cell_type": "code",
   "execution_count": 18,
   "id": "1888ba3f",
   "metadata": {},
   "outputs": [
    {
     "data": {
      "text/plain": [
       "0.10145877111519161"
      ]
     },
     "execution_count": 18,
     "metadata": {},
     "output_type": "execute_result"
    }
   ],
   "source": [
    "t_test, p_value = stats.mannwhitneyu(group_A, group_B)\n",
    "p_value"
   ]
  },
  {
   "cell_type": "markdown",
   "id": "4e496c80",
   "metadata": {},
   "source": [
    "p-value > 0.05, fail to reject H0."
   ]
  },
  {
   "cell_type": "code",
   "execution_count": 19,
   "id": "3bf1e6b7",
   "metadata": {},
   "outputs": [],
   "source": [
    "data = ['Test on the paid user group', 'Non-parametric', p_value, 'Failed to reject H0', 'A/B groups are similar']\n",
    "new_data = pd.DataFrame([data], columns =['Scenario', 'Test Type', 'P_value', 'Result', 'Remark'])\n",
    "\n",
    "result = pd.concat([result, new_data], ignore_index=True)"
   ]
  },
  {
   "cell_type": "markdown",
   "id": "0254023e",
   "metadata": {},
   "source": [
    "## 3. Analyze the users with multiple visits"
   ]
  },
  {
   "cell_type": "code",
   "execution_count": 20,
   "id": "1f50bb73",
   "metadata": {},
   "outputs": [
    {
     "data": {
      "text/html": [
       "<div>\n",
       "<style scoped>\n",
       "    .dataframe tbody tr th:only-of-type {\n",
       "        vertical-align: middle;\n",
       "    }\n",
       "\n",
       "    .dataframe tbody tr th {\n",
       "        vertical-align: top;\n",
       "    }\n",
       "\n",
       "    .dataframe thead th {\n",
       "        text-align: right;\n",
       "    }\n",
       "</style>\n",
       "<table border=\"1\" class=\"dataframe\">\n",
       "  <thead>\n",
       "    <tr style=\"text-align: right;\">\n",
       "      <th></th>\n",
       "      <th>USER_ID</th>\n",
       "      <th>VARIANT_NAME</th>\n",
       "      <th>REVENUE</th>\n",
       "    </tr>\n",
       "  </thead>\n",
       "  <tbody>\n",
       "    <tr>\n",
       "      <th>106</th>\n",
       "      <td>7704</td>\n",
       "      <td>control</td>\n",
       "      <td>0.0</td>\n",
       "    </tr>\n",
       "    <tr>\n",
       "      <th>195</th>\n",
       "      <td>8406</td>\n",
       "      <td>variant</td>\n",
       "      <td>0.0</td>\n",
       "    </tr>\n",
       "    <tr>\n",
       "      <th>224</th>\n",
       "      <td>7042</td>\n",
       "      <td>variant</td>\n",
       "      <td>0.0</td>\n",
       "    </tr>\n",
       "    <tr>\n",
       "      <th>283</th>\n",
       "      <td>4064</td>\n",
       "      <td>variant</td>\n",
       "      <td>0.0</td>\n",
       "    </tr>\n",
       "    <tr>\n",
       "      <th>302</th>\n",
       "      <td>4409</td>\n",
       "      <td>control</td>\n",
       "      <td>0.0</td>\n",
       "    </tr>\n",
       "    <tr>\n",
       "      <th>...</th>\n",
       "      <td>...</td>\n",
       "      <td>...</td>\n",
       "      <td>...</td>\n",
       "    </tr>\n",
       "    <tr>\n",
       "      <th>9991</th>\n",
       "      <td>9303</td>\n",
       "      <td>variant</td>\n",
       "      <td>0.0</td>\n",
       "    </tr>\n",
       "    <tr>\n",
       "      <th>9992</th>\n",
       "      <td>2400</td>\n",
       "      <td>variant</td>\n",
       "      <td>0.0</td>\n",
       "    </tr>\n",
       "    <tr>\n",
       "      <th>9993</th>\n",
       "      <td>3129</td>\n",
       "      <td>control</td>\n",
       "      <td>0.0</td>\n",
       "    </tr>\n",
       "    <tr>\n",
       "      <th>9994</th>\n",
       "      <td>1981</td>\n",
       "      <td>control</td>\n",
       "      <td>0.0</td>\n",
       "    </tr>\n",
       "    <tr>\n",
       "      <th>9996</th>\n",
       "      <td>9214</td>\n",
       "      <td>variant</td>\n",
       "      <td>0.0</td>\n",
       "    </tr>\n",
       "  </tbody>\n",
       "</table>\n",
       "<p>3676 rows × 3 columns</p>\n",
       "</div>"
      ],
      "text/plain": [
       "      USER_ID VARIANT_NAME  REVENUE\n",
       "106      7704      control      0.0\n",
       "195      8406      variant      0.0\n",
       "224      7042      variant      0.0\n",
       "283      4064      variant      0.0\n",
       "302      4409      control      0.0\n",
       "...       ...          ...      ...\n",
       "9991     9303      variant      0.0\n",
       "9992     2400      variant      0.0\n",
       "9993     3129      control      0.0\n",
       "9994     1981      control      0.0\n",
       "9996     9214      variant      0.0\n",
       "\n",
       "[3676 rows x 3 columns]"
      ]
     },
     "execution_count": 20,
     "metadata": {},
     "output_type": "execute_result"
    }
   ],
   "source": [
    "# It seems like there are some users that have multple records in this dataset\n",
    "\n",
    "df[df['USER_ID'].duplicated()]"
   ]
  },
  {
   "cell_type": "code",
   "execution_count": 21,
   "id": "62176f61",
   "metadata": {},
   "outputs": [
    {
     "data": {
      "text/html": [
       "<div>\n",
       "<style scoped>\n",
       "    .dataframe tbody tr th:only-of-type {\n",
       "        vertical-align: middle;\n",
       "    }\n",
       "\n",
       "    .dataframe tbody tr th {\n",
       "        vertical-align: top;\n",
       "    }\n",
       "\n",
       "    .dataframe thead th {\n",
       "        text-align: right;\n",
       "    }\n",
       "</style>\n",
       "<table border=\"1\" class=\"dataframe\">\n",
       "  <thead>\n",
       "    <tr style=\"text-align: right;\">\n",
       "      <th></th>\n",
       "      <th>USER_ID</th>\n",
       "      <th>VARIANT_NAME</th>\n",
       "      <th>REVENUE</th>\n",
       "    </tr>\n",
       "  </thead>\n",
       "  <tbody>\n",
       "    <tr>\n",
       "      <th>1</th>\n",
       "      <td>3</td>\n",
       "      <td>control</td>\n",
       "      <td>0.00</td>\n",
       "    </tr>\n",
       "    <tr>\n",
       "      <th>2</th>\n",
       "      <td>3</td>\n",
       "      <td>variant</td>\n",
       "      <td>0.00</td>\n",
       "    </tr>\n",
       "    <tr>\n",
       "      <th>7</th>\n",
       "      <td>10</td>\n",
       "      <td>control</td>\n",
       "      <td>0.00</td>\n",
       "    </tr>\n",
       "    <tr>\n",
       "      <th>8</th>\n",
       "      <td>10</td>\n",
       "      <td>variant</td>\n",
       "      <td>0.00</td>\n",
       "    </tr>\n",
       "    <tr>\n",
       "      <th>13</th>\n",
       "      <td>18</td>\n",
       "      <td>control</td>\n",
       "      <td>0.00</td>\n",
       "    </tr>\n",
       "    <tr>\n",
       "      <th>...</th>\n",
       "      <td>...</td>\n",
       "      <td>...</td>\n",
       "      <td>...</td>\n",
       "    </tr>\n",
       "    <tr>\n",
       "      <th>7851</th>\n",
       "      <td>9982</td>\n",
       "      <td>variant</td>\n",
       "      <td>0.00</td>\n",
       "    </tr>\n",
       "    <tr>\n",
       "      <th>7859</th>\n",
       "      <td>9996</td>\n",
       "      <td>control</td>\n",
       "      <td>0.00</td>\n",
       "    </tr>\n",
       "    <tr>\n",
       "      <th>7860</th>\n",
       "      <td>9996</td>\n",
       "      <td>variant</td>\n",
       "      <td>6.46</td>\n",
       "    </tr>\n",
       "    <tr>\n",
       "      <th>7862</th>\n",
       "      <td>10000</td>\n",
       "      <td>control</td>\n",
       "      <td>0.00</td>\n",
       "    </tr>\n",
       "    <tr>\n",
       "      <th>7863</th>\n",
       "      <td>10000</td>\n",
       "      <td>variant</td>\n",
       "      <td>0.00</td>\n",
       "    </tr>\n",
       "  </tbody>\n",
       "</table>\n",
       "<p>3082 rows × 3 columns</p>\n",
       "</div>"
      ],
      "text/plain": [
       "      USER_ID VARIANT_NAME  REVENUE\n",
       "1           3      control     0.00\n",
       "2           3      variant     0.00\n",
       "7          10      control     0.00\n",
       "8          10      variant     0.00\n",
       "13         18      control     0.00\n",
       "...       ...          ...      ...\n",
       "7851     9982      variant     0.00\n",
       "7859     9996      control     0.00\n",
       "7860     9996      variant     6.46\n",
       "7862    10000      control     0.00\n",
       "7863    10000      variant     0.00\n",
       "\n",
       "[3082 rows x 3 columns]"
      ]
     },
     "execution_count": 21,
     "metadata": {},
     "output_type": "execute_result"
    }
   ],
   "source": [
    "grouped_df = df.groupby(by=['USER_ID', 'VARIANT_NAME']).agg({'REVENUE':'sum'}).reset_index()\n",
    "variant_counts = grouped_df.groupby('USER_ID').size()\n",
    "users_with_multiple_variants = variant_counts[variant_counts > 1].index\n",
    "filtered_df = grouped_df[grouped_df['USER_ID'].isin(users_with_multiple_variants)]\n",
    "filtered_df"
   ]
  },
  {
   "cell_type": "code",
   "execution_count": 22,
   "id": "065b8ede",
   "metadata": {},
   "outputs": [
    {
     "data": {
      "text/html": [
       "<div>\n",
       "<style scoped>\n",
       "    .dataframe tbody tr th:only-of-type {\n",
       "        vertical-align: middle;\n",
       "    }\n",
       "\n",
       "    .dataframe tbody tr th {\n",
       "        vertical-align: top;\n",
       "    }\n",
       "\n",
       "    .dataframe thead tr th {\n",
       "        text-align: left;\n",
       "    }\n",
       "\n",
       "    .dataframe thead tr:last-of-type th {\n",
       "        text-align: right;\n",
       "    }\n",
       "</style>\n",
       "<table border=\"1\" class=\"dataframe\">\n",
       "  <thead>\n",
       "    <tr>\n",
       "      <th></th>\n",
       "      <th>USER_ID</th>\n",
       "      <th colspan=\"4\" halign=\"left\">REVENUE</th>\n",
       "    </tr>\n",
       "    <tr>\n",
       "      <th></th>\n",
       "      <th>nunique</th>\n",
       "      <th>sum</th>\n",
       "      <th>mean</th>\n",
       "      <th>median</th>\n",
       "      <th>count</th>\n",
       "    </tr>\n",
       "    <tr>\n",
       "      <th>VARIANT_NAME</th>\n",
       "      <th></th>\n",
       "      <th></th>\n",
       "      <th></th>\n",
       "      <th></th>\n",
       "      <th></th>\n",
       "    </tr>\n",
       "  </thead>\n",
       "  <tbody>\n",
       "    <tr>\n",
       "      <th>control</th>\n",
       "      <td>1541</td>\n",
       "      <td>172.44</td>\n",
       "      <td>0.111901</td>\n",
       "      <td>0.0</td>\n",
       "      <td>1541</td>\n",
       "    </tr>\n",
       "    <tr>\n",
       "      <th>variant</th>\n",
       "      <td>1541</td>\n",
       "      <td>172.15</td>\n",
       "      <td>0.111713</td>\n",
       "      <td>0.0</td>\n",
       "      <td>1541</td>\n",
       "    </tr>\n",
       "  </tbody>\n",
       "</table>\n",
       "</div>"
      ],
      "text/plain": [
       "             USER_ID REVENUE                       \n",
       "             nunique     sum      mean median count\n",
       "VARIANT_NAME                                       \n",
       "control         1541  172.44  0.111901    0.0  1541\n",
       "variant         1541  172.15  0.111713    0.0  1541"
      ]
     },
     "execution_count": 22,
     "metadata": {},
     "output_type": "execute_result"
    }
   ],
   "source": [
    "filtered_df.groupby(by=\"VARIANT_NAME\").agg({\"USER_ID\": \"nunique\", \"REVENUE\": [\"sum\", \"mean\", \"median\", \"count\"]})"
   ]
  },
  {
   "cell_type": "code",
   "execution_count": 23,
   "id": "faa162bc",
   "metadata": {},
   "outputs": [
    {
     "data": {
      "text/plain": [
       "<Axes: xlabel='VARIANT_NAME', ylabel='REVENUE'>"
      ]
     },
     "execution_count": 23,
     "metadata": {},
     "output_type": "execute_result"
    },
    {
     "data": {
      "image/png": "[encoded data removed]",
      "text/plain": [
       "<Figure size 640x480 with 1 Axes>"
      ]
     },
     "metadata": {},
     "output_type": "display_data"
    }
   ],
   "source": [
    "# Plot the revenue based on variant name\n",
    "\n",
    "sns.boxplot(y='REVENUE', x='VARIANT_NAME', data=filtered_df)"
   ]
  },
  {
   "cell_type": "markdown",
   "id": "cfd2232e",
   "metadata": {},
   "source": [
    "### A/B Test on the user group with multiple visits"
   ]
  },
  {
   "cell_type": "markdown",
   "id": "68bd9452",
   "metadata": {},
   "source": [
    "- 𝐻0: There is no difference in the mean revenue between variant and control.\n",
    "- 𝐻𝐴: There is a difference in the mean revenue between variant and control."
   ]
  },
  {
   "cell_type": "code",
   "execution_count": 24,
   "id": "668f5abb",
   "metadata": {},
   "outputs": [
    {
     "name": "stdout",
     "output_type": "stream",
     "text": [
      "True\n",
      "True\n"
     ]
    }
   ],
   "source": [
    "# Split AB\n",
    "group_A = filtered_df[filtered_df.VARIANT_NAME == 'variant']['REVENUE']\n",
    "group_B = filtered_df[filtered_df.VARIANT_NAME == 'control']['REVENUE']\n",
    "\n",
    "# Assumption: Normality\n",
    "ntA = stats.shapiro(group_A)[1] < 0.05\n",
    "ntB = stats.shapiro(group_B)[1] < 0.05\n",
    "# H0: Distribution is Normal! - False\n",
    "# H1: Distribution is not Normal! - True\n",
    "print(ntA)\n",
    "print(ntB)"
   ]
  },
  {
   "cell_type": "markdown",
   "id": "eeaf9378",
   "metadata": {},
   "source": [
    "So, both of the groups are not normally distributed. Therefore, we will perform a non-parametric test using Mann-Whitney U test method"
   ]
  },
  {
   "cell_type": "code",
   "execution_count": 25,
   "id": "a87d2af4",
   "metadata": {},
   "outputs": [
    {
     "data": {
      "text/plain": [
       "0.6957578454406484"
      ]
     },
     "execution_count": 25,
     "metadata": {},
     "output_type": "execute_result"
    }
   ],
   "source": [
    "t_test, p_value = stats.mannwhitneyu(group_A, group_B)\n",
    "p_value"
   ]
  },
  {
   "cell_type": "markdown",
   "id": "554e61b3",
   "metadata": {},
   "source": [
    "p-value > 0.05, fail to reject H0."
   ]
  },
  {
   "cell_type": "code",
   "execution_count": 26,
   "id": "303a2a8d",
   "metadata": {},
   "outputs": [],
   "source": [
    "data = ['Test on the user group with multiple visits', 'Non-parametric', p_value, 'Failed to reject H0','A/B groups are similar']\n",
    "new_data = pd.DataFrame([data], columns =['Scenario', 'Test Type', 'P_value', 'Result', 'Remark'])\n",
    "\n",
    "result = pd.concat([result, new_data], ignore_index=True)"
   ]
  },
  {
   "cell_type": "code",
   "execution_count": 27,
   "id": "8d23b155",
   "metadata": {},
   "outputs": [
    {
     "data": {
      "text/html": [
       "<div>\n",
       "<style scoped>\n",
       "    .dataframe tbody tr th:only-of-type {\n",
       "        vertical-align: middle;\n",
       "    }\n",
       "\n",
       "    .dataframe tbody tr th {\n",
       "        vertical-align: top;\n",
       "    }\n",
       "\n",
       "    .dataframe thead th {\n",
       "        text-align: right;\n",
       "    }\n",
       "</style>\n",
       "<table border=\"1\" class=\"dataframe\">\n",
       "  <thead>\n",
       "    <tr style=\"text-align: right;\">\n",
       "      <th></th>\n",
       "      <th>Scenario</th>\n",
       "      <th>Test Type</th>\n",
       "      <th>P_value</th>\n",
       "      <th>Result</th>\n",
       "      <th>Remark</th>\n",
       "    </tr>\n",
       "  </thead>\n",
       "  <tbody>\n",
       "    <tr>\n",
       "      <th>0</th>\n",
       "      <td>Test on the entire user group</td>\n",
       "      <td>Non-parametric</td>\n",
       "      <td>0.529197</td>\n",
       "      <td>Failed to reject H0</td>\n",
       "      <td>A/B groups are similar</td>\n",
       "    </tr>\n",
       "    <tr>\n",
       "      <th>1</th>\n",
       "      <td>Test on the paid user group</td>\n",
       "      <td>Non-parametric</td>\n",
       "      <td>0.101459</td>\n",
       "      <td>Failed to reject H0</td>\n",
       "      <td>A/B groups are similar</td>\n",
       "    </tr>\n",
       "    <tr>\n",
       "      <th>2</th>\n",
       "      <td>Test on the user group with multiple visits</td>\n",
       "      <td>Non-parametric</td>\n",
       "      <td>0.695758</td>\n",
       "      <td>Failed to reject H0</td>\n",
       "      <td>A/B groups are similar</td>\n",
       "    </tr>\n",
       "  </tbody>\n",
       "</table>\n",
       "</div>"
      ],
      "text/plain": [
       "                                      Scenario       Test Type   P_value  \\\n",
       "0                Test on the entire user group  Non-parametric  0.529197   \n",
       "1                  Test on the paid user group  Non-parametric  0.101459   \n",
       "2  Test on the user group with multiple visits  Non-parametric  0.695758   \n",
       "\n",
       "                Result                  Remark  \n",
       "0  Failed to reject H0  A/B groups are similar  \n",
       "1  Failed to reject H0  A/B groups are similar  \n",
       "2  Failed to reject H0  A/B groups are similar  "
      ]
     },
     "execution_count": 27,
     "metadata": {},
     "output_type": "execute_result"
    }
   ],
   "source": [
    "result"
   ]
  },
  {
   "cell_type": "markdown",
   "id": "4b3323e6",
   "metadata": {},
   "source": [
    "# Conclusion"
   ]
  },
  {
   "cell_type": "markdown",
   "id": "833328d6",
   "metadata": {},
   "source": [
    "In all three scenarios, our hypothesis tests show results of failed to reject H0. Therefore, we can conclude that in all scenarios, A/B groups are similar, and the controls are not effective."
   ]
  },
  {
   "cell_type": "code",
   "execution_count": null,
   "id": "ab8c5822",
   "metadata": {},
   "outputs": [],
   "source": []
  }
 ],
 "metadata": {
  "kernelspec": {
   "display_name": "Python 3 (ipykernel)",
   "language": "python",
   "name": "python3"
  },
  "language_info": {
   "codemirror_mode": {
    "name": "ipython",
    "version": 3
   },
   "file_extension": ".py",
   "mimetype": "text/x-python",
   "name": "python",
   "nbconvert_exporter": "python",
   "pygments_lexer": "ipython3",
   "version": "3.9.16"
  }
 },
 "nbformat": 4,
 "nbformat_minor": 5
}
